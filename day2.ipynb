{
 "cells": [
  {
   "cell_type": "code",
   "execution_count": 7,
   "metadata": {},
   "outputs": [],
   "source": [
    "data = open('input2.txt', 'r').read().split('\\n')"
   ]
  },
  {
   "cell_type": "code",
   "execution_count": 8,
   "metadata": {},
   "outputs": [
    {
     "data": {
      "text/plain": [
       "['7-9 l: vslmtglbc',\n",
       " '2-3 s: hpbs',\n",
       " '1-3 v: pvvr',\n",
       " '2-8 h: hhhhvhhh',\n",
       " '9-10 x: xxxxxxxxzv',\n",
       " '2-5 q: xdqbjj']"
      ]
     },
     "execution_count": 8,
     "metadata": {},
     "output_type": "execute_result"
    }
   ],
   "source": [
    "data[:6]"
   ]
  },
  {
   "cell_type": "code",
   "execution_count": 11,
   "metadata": {},
   "outputs": [],
   "source": [
    "data = [i.split() for i in data]"
   ]
  },
  {
   "cell_type": "code",
   "execution_count": 12,
   "metadata": {},
   "outputs": [
    {
     "data": {
      "text/plain": [
       "[['2-3', 's:', 'hpbs'],\n",
       " ['1-3', 'v:', 'pvvr'],\n",
       " ['2-8', 'h:', 'hhhhvhhh'],\n",
       " ['9-10', 'x:', 'xxxxxxxxzv'],\n",
       " ['2-5', 'q:', 'xdqbjj']]"
      ]
     },
     "execution_count": 12,
     "metadata": {},
     "output_type": "execute_result"
    }
   ],
   "source": []
  },
  {
   "cell_type": "code",
   "execution_count": 23,
   "metadata": {},
   "outputs": [],
   "source": [
    "counter = 0\n",
    "for i in range(len(data)):\n",
    "    bounds = data[i][0].split('-')\n",
    "    if data[i][2].count(data[i][1][0]) >= int(bounds[0]) and data[i][2].count(data[i][1][0]) <= int(bounds[1]):\n",
    "        counter += 1"
   ]
  },
  {
   "cell_type": "code",
   "execution_count": 24,
   "metadata": {},
   "outputs": [
    {
     "data": {
      "text/plain": [
       "614"
      ]
     },
     "execution_count": 24,
     "metadata": {},
     "output_type": "execute_result"
    }
   ],
   "source": [
    "counter"
   ]
  },
  {
   "cell_type": "code",
   "execution_count": 34,
   "metadata": {},
   "outputs": [
    {
     "data": {
      "text/plain": [
       "354"
      ]
     },
     "execution_count": 34,
     "metadata": {},
     "output_type": "execute_result"
    }
   ],
   "source": [
    "counter = 0\n",
    "for i in range(len(data)):\n",
    "    correct_count = 0\n",
    "    index1, index2 = tuple(data[i][0].split('-'))\n",
    "    if data[i][2][int(index1)-1] == data[i][1][0]:\n",
    "        correct_count += 1\n",
    "    if data[i][2][int(index2)-1] == data[i][1][0]:\n",
    "        correct_count += 1 \n",
    "    if correct_count == 1:\n",
    "        counter += 1\n",
    "counter\n",
    "    "
   ]
  },
  {
   "cell_type": "code",
   "execution_count": null,
   "metadata": {},
   "outputs": [],
   "source": []
  }
 ],
 "metadata": {
  "kernelspec": {
   "display_name": "Python 3",
   "language": "python",
   "name": "python3"
  },
  "language_info": {
   "codemirror_mode": {
    "name": "ipython",
    "version": 3
   },
   "file_extension": ".py",
   "mimetype": "text/x-python",
   "name": "python",
   "nbconvert_exporter": "python",
   "pygments_lexer": "ipython3",
   "version": "3.7.7"
  }
 },
 "nbformat": 4,
 "nbformat_minor": 4
}

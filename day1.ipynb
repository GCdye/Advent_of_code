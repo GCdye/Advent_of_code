{
 "cells": [
  {
   "cell_type": "code",
   "execution_count": 1,
   "metadata": {},
   "outputs": [],
   "source": [
    "#loading input data\n",
    "data = open('input.txt', 'r').read().split('\\n')"
   ]
  },
  {
   "cell_type": "code",
   "execution_count": 9,
   "metadata": {},
   "outputs": [
    {
     "data": {
      "text/plain": [
       "['1511', '1112', '1958', '1778', '1769']"
      ]
     },
     "execution_count": 9,
     "metadata": {},
     "output_type": "execute_result"
    }
   ],
   "source": [
    "#Checking data integrity \n",
    "data[0:5]"
   ]
  },
  {
   "cell_type": "code",
   "execution_count": 13,
   "metadata": {},
   "outputs": [
    {
     "name": "stdout",
     "output_type": "stream",
     "text": [
      "267520550\n",
      "267520550\n",
      "267520550\n",
      "267520550\n",
      "267520550\n",
      "267520550\n"
     ]
    }
   ],
   "source": [
    "# iterating through data three times to get all possible combos. \n",
    "#This is a quick and dirty solution but the multiple identical prints show that there is truely only one answer \n",
    "for i in data:\n",
    "    for j in data:\n",
    "        for k in data:\n",
    "            if int(i) + int(j) + int(k) == 2020:\n",
    "                print( int(i) * int(j) * int(k))\n",
    "                break"
   ]
  },
  {
   "cell_type": "code",
   "execution_count": null,
   "metadata": {},
   "outputs": [],
   "source": []
  }
 ],
 "metadata": {
  "kernelspec": {
   "display_name": "Python 3",
   "language": "python",
   "name": "python3"
  },
  "language_info": {
   "codemirror_mode": {
    "name": "ipython",
    "version": 3
   },
   "file_extension": ".py",
   "mimetype": "text/x-python",
   "name": "python",
   "nbconvert_exporter": "python",
   "pygments_lexer": "ipython3",
   "version": "3.7.7"
  }
 },
 "nbformat": 4,
 "nbformat_minor": 4
}
